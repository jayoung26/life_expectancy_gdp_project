{
 "cells": [
  {
   "cell_type": "markdown",
   "metadata": {},
   "source": [
    "# Life Expectancy GDP Project\n",
    "\n",
    "For this project, you will analyze data on GDP and life expectancy from the World Health Organization and the World Bank to try and identify the relationship between the GDP and life expectancy of six countries.\n",
    "\n",
    "During this project, you will analyze, prepare, and plot data in order to answer questions in a meaningful way.\n",
    "\n",
    "After you perform your analysis, you’ll be creating a blog post to share your findings on the World Health Organization website\n",
    "\n",
    "## What are we analyzing?\n",
    "\n",
    "Describe data\n",
    "\n",
    "## Questions to be answered\n",
    "\n",
    "Give analysis questions"
   ]
  },
  {
   "cell_type": "code",
   "execution_count": 5,
   "metadata": {},
   "outputs": [],
   "source": [
    "import pandas as pd\n",
    "import numpy as np\n",
    "import matplotlib as plt"
   ]
  },
  {
   "cell_type": "code",
   "execution_count": 21,
   "metadata": {},
   "outputs": [
    {
     "name": "stdout",
     "output_type": "stream",
     "text": [
      "  Country  Year  Life expectancy at birth (years)           GDP\n",
      "0   Chile  2000                              77.3  7.786093e+10\n",
      "1   Chile  2001                              77.3  7.097992e+10\n",
      "2   Chile  2002                              77.8  6.973681e+10\n",
      "3   Chile  2003                              77.9  7.564346e+10\n",
      "4   Chile  2004                              78.0  9.921039e+10\n"
     ]
    }
   ],
   "source": [
    "df = pd.read_csv(\"all_data.csv\")\n",
    "print(df.head())"
   ]
  },
  {
   "cell_type": "markdown",
   "metadata": {},
   "source": [
    "## Cleaning Data"
   ]
  },
  {
   "cell_type": "code",
   "execution_count": 23,
   "metadata": {},
   "outputs": [
    {
     "name": "stdout",
     "output_type": "stream",
     "text": [
      "  country  year  life_expectancy           gdp\n",
      "0   Chile  2000             77.3  7.786093e+20\n",
      "1   Chile  2001             77.3  7.097992e+20\n",
      "2   Chile  2002             77.8  6.973681e+20\n",
      "3   Chile  2003             77.9  7.564346e+20\n",
      "4   Chile  2004             78.0  9.921039e+20\n"
     ]
    }
   ],
   "source": [
    "df.rename(columns = {'Country': 'country', 'Year':'year', 'Life expectancy at birth (years)' : 'life_expectancy', 'GDP':'gdp'}, inplace = True)\n",
    "print(df.head())"
   ]
  },
  {
   "cell_type": "code",
   "execution_count": 20,
   "metadata": {},
   "outputs": [
    {
     "name": "stdout",
     "output_type": "stream",
     "text": [
      "['Chile' 'China' 'Germany' 'Mexico' 'United States of America' 'Zimbabwe']\n",
      "[2000 2001 2002 2003 2004 2005 2006 2007 2008 2009 2010 2011 2012 2013\n",
      " 2014 2015]\n",
      "<bound method Series.info of 0     77.3\n",
      "1     77.3\n",
      "2     77.8\n",
      "3     77.9\n",
      "4     78.0\n",
      "      ... \n",
      "91    54.9\n",
      "92    56.6\n",
      "93    58.0\n",
      "94    59.2\n",
      "95    60.7\n",
      "Name: life_expectancy, Length: 96, dtype: float64>\n",
      "<bound method Series.info of 0     7.786093e+10\n",
      "1     7.097992e+10\n",
      "2     6.973681e+10\n",
      "3     7.564346e+10\n",
      "4     9.921039e+10\n",
      "          ...     \n",
      "91    1.209845e+10\n",
      "92    1.424249e+10\n",
      "93    1.545177e+10\n",
      "94    1.589105e+10\n",
      "95    1.630467e+10\n",
      "Name: gdp, Length: 96, dtype: float64>\n"
     ]
    }
   ],
   "source": [
    "print(df.country.unique())\n",
    "print(df.year.unique())\n"
   ]
  }
 ],
 "metadata": {
  "kernelspec": {
   "display_name": "Python 3",
   "language": "python",
   "name": "python3"
  },
  "language_info": {
   "codemirror_mode": {
    "name": "ipython",
    "version": 3
   },
   "file_extension": ".py",
   "mimetype": "text/x-python",
   "name": "python",
   "nbconvert_exporter": "python",
   "pygments_lexer": "ipython3",
   "version": "3.11.9"
  }
 },
 "nbformat": 4,
 "nbformat_minor": 4
}
